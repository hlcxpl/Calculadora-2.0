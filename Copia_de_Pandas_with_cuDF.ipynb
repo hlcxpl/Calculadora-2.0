{
  "nbformat": 4,
  "nbformat_minor": 0,
  "metadata": {
    "colab": {
      "provenance": [],
      "gpuType": "T4",
      "include_colab_link": true
    },
    "kernelspec": {
      "name": "python3",
      "display_name": "Python 3"
    },
    "language_info": {
      "name": "python"
    },
    "accelerator": "GPU"
  },
  "cells": [
    {
      "cell_type": "markdown",
      "metadata": {
        "id": "view-in-github",
        "colab_type": "text"
      },
      "source": [
        "<a href=\"https://colab.research.google.com/github/hlcxpl/Calculadora-2.0/blob/main/Copia_de_Pandas_with_cuDF.ipynb\" target=\"_parent\"><img src=\"https://colab.research.google.com/assets/colab-badge.svg\" alt=\"Open In Colab\"/></a>"
      ]
    },
    {
      "cell_type": "markdown",
      "source": [
        "# Daily Dose of Data Science\n",
        "\n",
        "This notebook accompanies the code for accelerating Pandas with Rapids cuDF.\n",
        "\n",
        "Before starting, go to \"Runtime\" -> \"Change Runtime type\" -> Select \"T4 GPU\""
      ],
      "metadata": {
        "id": "BTcAT0e2bwNb"
      }
    },
    {
      "cell_type": "code",
      "execution_count": null,
      "metadata": {
        "id": "NNqdrQ7I6Waq"
      },
      "outputs": [],
      "source": [
        "!pip install cudf-cu11 --extra-index-url=https://pypi.nvidia.com"
      ]
    },
    {
      "cell_type": "code",
      "source": [
        "!wget https://data.rapids.ai/datasets/nyc_parking/nyc_parking_violations_2022.parquet"
      ],
      "metadata": {
        "id": "ArOr3GrJTDMq"
      },
      "execution_count": null,
      "outputs": []
    },
    {
      "cell_type": "code",
      "source": [
        "import cudf"
      ],
      "metadata": {
        "id": "f6wFX_zW6bMh"
      },
      "execution_count": null,
      "outputs": []
    },
    {
      "cell_type": "code",
      "source": [
        "%load_ext cudf.pandas\n",
        "\n",
        "import pandas as pd"
      ],
      "metadata": {
        "id": "OnCjyhXT7Jt6"
      },
      "execution_count": null,
      "outputs": []
    },
    {
      "cell_type": "code",
      "source": [
        "pd"
      ],
      "metadata": {
        "id": "7dJJnbTygGTd"
      },
      "execution_count": null,
      "outputs": []
    },
    {
      "cell_type": "code",
      "source": [
        "df = pd.read_parquet(\n",
        "    \"nyc_parking_violations_2022.parquet\",\n",
        "    columns=[\"Registration State\", \"Violation Description\",\n",
        "             \"Vehicle Body Type\", \"Issue Date\", \"Summons Number\"]\n",
        ")"
      ],
      "metadata": {
        "id": "kOhrxb_9Nztp"
      },
      "execution_count": null,
      "outputs": []
    },
    {
      "cell_type": "code",
      "source": [
        "(df[[\"Registration State\", \"Violation Description\"]]\n",
        " .value_counts()\n",
        " .groupby(\"Registration State\")\n",
        " .head(1)\n",
        " .sort_index()\n",
        " .reset_index()\n",
        ")"
      ],
      "metadata": {
        "id": "hhiTz3yiIU0C"
      },
      "execution_count": null,
      "outputs": []
    },
    {
      "cell_type": "code",
      "source": [
        "(df\n",
        " .groupby([\"Vehicle Body Type\"])\n",
        " .agg({\"Summons Number\": \"count\"})\n",
        " .rename(columns={\"Summons Number\": \"Count\"})\n",
        " .sort_values([\"Count\"], ascending=False)\n",
        ")"
      ],
      "metadata": {
        "id": "DHEu85A46d-c"
      },
      "execution_count": null,
      "outputs": []
    },
    {
      "cell_type": "code",
      "source": [
        "weekday_names = {\n",
        "    0: \"Monday\",\n",
        "    1: \"Tuesday\",\n",
        "    2: \"Wednesday\",\n",
        "    3: \"Thursday\",\n",
        "    4: \"Friday\",\n",
        "    5: \"Saturday\",\n",
        "    6: \"Sunday\",\n",
        "}\n",
        "\n",
        "df[\"Issue Date\"] = df[\"Issue Date\"].astype(\"datetime64[ms]\")\n",
        "df[\"issue_weekday\"] = df[\"Issue Date\"].dt.weekday.map(weekday_names)\n",
        "\n",
        "df.groupby([\"issue_weekday\"])[\"Summons Number\"].count().sort_values()"
      ],
      "metadata": {
        "id": "JEP8VCxy6d5q"
      },
      "execution_count": null,
      "outputs": []
    },
    {
      "cell_type": "code",
      "source": [],
      "metadata": {
        "id": "UR5Yx9ZKTwo4"
      },
      "execution_count": null,
      "outputs": []
    }
  ]
}